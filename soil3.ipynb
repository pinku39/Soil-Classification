{
 "cells": [
  {
   "cell_type": "markdown",
   "metadata": {},
   "source": [
    " # Import necessary libraries"
   ]
  },
  {
   "cell_type": "code",
   "execution_count": 9,
   "metadata": {},
   "outputs": [],
   "source": [
    "import numpy as np\n",
    "import pandas as pd\n",
    "import os\n",
    "import tensorflow as tf\n",
    "from tensorflow import keras\n",
    "import matplotlib.pyplot as plt\n",
    "from tensorflow.keras.optimizers import RMSprop\n",
    "from tensorflow.keras.preprocessing.image import ImageDataGenerator\n"
   ]
  },
  {
   "cell_type": "markdown",
   "metadata": {},
   "source": [
    "Define directories for different soil types\n"
   ]
  },
  {
   "cell_type": "code",
   "execution_count": 3,
   "metadata": {},
   "outputs": [],
   "source": [
    "dir_black = os.path.join(r'C:\\Users\\pinku\\OneDrive\\Desktop\\image_data\\Soil types\\Black Soil')\n",
    "dir_Cinder = os.path.join(r'C:\\Users\\pinku\\OneDrive\\Desktop\\image_data\\Soil types\\Cinder Soil')\n",
    "dir_Laterite = os.path.join(r'C:\\Users\\pinku\\OneDrive\\Desktop\\image_data\\Soil types\\Laterite Soil')\n",
    "dir_peat = os.path.join(r'C:\\Users\\pinku\\OneDrive\\Desktop\\image_data\\Soil types\\Peat Soil')\n",
    "dir_yellow = os.path.join(r'C:\\Users\\pinku\\OneDrive\\Desktop\\image_data\\Soil types\\Yellow Soil')"
   ]
  },
  {
   "cell_type": "markdown",
   "metadata": {},
   "source": [
    "# Setting Image Size and Batch Size\n",
    "\n",
    "\n"
   ]
  },
  {
   "cell_type": "code",
   "execution_count": 4,
   "metadata": {},
   "outputs": [],
   "source": [
    "# Define image size and batch size\n",
    "image_size = 220\n",
    "batch_size = 10\n",
    "target_size = (image_size, image_size)\n",
    "input_shape = (image_size, image_size, 3)\n"
   ]
  },
  {
   "cell_type": "markdown",
   "metadata": {},
   "source": [
    "# Importing Image Data Preprocessing Tools\n",
    "\n"
   ]
  },
  {
   "cell_type": "code",
   "execution_count": 5,
   "metadata": {},
   "outputs": [],
   "source": [
    "\n",
    "# Create an image data generator\n",
    "train_datagen = ImageDataGenerator(rescale=1/255)\n"
   ]
  },
  {
   "cell_type": "markdown",
   "metadata": {},
   "source": [
    "# Generating Data with ImageDataGenerator\n",
    "\n"
   ]
  },
  {
   "cell_type": "code",
   "execution_count": 6,
   "metadata": {},
   "outputs": [
    {
     "name": "stdout",
     "output_type": "stream",
     "text": [
      "Found 468 images belonging to 5 classes.\n"
     ]
    }
   ],
   "source": [
    "# Generate data from the specified directory\n",
    "train_generator = train_datagen.flow_from_directory(\n",
    "    r'C:\\Users\\pinku\\OneDrive\\Desktop\\image_data\\Soil types',\n",
    "    target_size=(200, 200),\n",
    "    batch_size=batch_size,\n",
    "    classes=['Black Soil', 'Cinder Soil', 'Laterite Soil', 'Peat Soil', 'Yellow Soil'],\n",
    "    class_mode='categorical')\n"
   ]
  },
  {
   "cell_type": "markdown",
   "metadata": {},
   "source": [
    "# Defining the Deep Learning Model\n",
    "\n"
   ]
  },
  {
   "cell_type": "code",
   "execution_count": 7,
   "metadata": {},
   "outputs": [
    {
     "name": "stdout",
     "output_type": "stream",
     "text": [
      "Model: \"sequential\"\n",
      "_________________________________________________________________\n",
      " Layer (type)                Output Shape              Param #   \n",
      "=================================================================\n",
      " conv2d (Conv2D)             (None, 218, 218, 32)      896       \n",
      "                                                                 \n",
      " max_pooling2d (MaxPooling2  (None, 109, 109, 32)      0         \n",
      " D)                                                              \n",
      "                                                                 \n",
      " conv2d_1 (Conv2D)           (None, 107, 107, 64)      18496     \n",
      "                                                                 \n",
      " max_pooling2d_1 (MaxPoolin  (None, 53, 53, 64)        0         \n",
      " g2D)                                                            \n",
      "                                                                 \n",
      " conv2d_2 (Conv2D)           (None, 51, 51, 128)       73856     \n",
      "                                                                 \n",
      " max_pooling2d_2 (MaxPoolin  (None, 25, 25, 128)       0         \n",
      " g2D)                                                            \n",
      "                                                                 \n",
      " flatten (Flatten)           (None, 80000)             0         \n",
      "                                                                 \n",
      " dense (Dense)               (None, 128)               10240128  \n",
      "                                                                 \n",
      " dropout (Dropout)           (None, 128)               0         \n",
      "                                                                 \n",
      " dense_1 (Dense)             (None, 5)                 645       \n",
      "                                                                 \n",
      "=================================================================\n",
      "Total params: 10334021 (39.42 MB)\n",
      "Trainable params: 10334021 (39.42 MB)\n",
      "Non-trainable params: 0 (0.00 Byte)\n",
      "_________________________________________________________________\n"
     ]
    }
   ],
   "source": [
    "\n",
    "\n",
    "model = keras.models.Sequential([\n",
    "    # Convolutional layers for feature extraction\n",
    "    keras.layers.Conv2D(32, (3, 3), activation='relu', input_shape=(image_size, image_size, 3)),\n",
    "    keras.layers.MaxPooling2D(2, 2),\n",
    "    keras.layers.Conv2D(64, (3, 3), activation='relu'),\n",
    "    keras.layers.MaxPooling2D(2, 2),\n",
    "    keras.layers.Conv2D(128, (3, 3), activation='relu'),\n",
    "    keras.layers.MaxPooling2D(2, 2),\n",
    "\n",
    "    # Flatten the results to feed into a dense layer\n",
    "    keras.layers.Flatten(),\n",
    "\n",
    "    # Fully connected layers\n",
    "    keras.layers.Dense(128, activation='relu'),\n",
    "    keras.layers.Dropout(0.5),  # Optional dropout layer to prevent overfitting\n",
    "    keras.layers.Dense(5, activation='softmax')  # 5 output neurons for 5 classes with softmax activation\n",
    "])\n",
    "\n",
    "model.summary()\n"
   ]
  },
  {
   "cell_type": "markdown",
   "metadata": {},
   "source": [
    "# Compiling the Model\n",
    "\n"
   ]
  },
  {
   "cell_type": "code",
   "execution_count": 10,
   "metadata": {},
   "outputs": [],
   "source": [
    "\n",
    "\n",
    "model.compile(\n",
    "    loss='categorical_crossentropy',\n",
    "    optimizer=RMSprop(learning_rate=0.001),\n",
    "    metrics=['acc'])\n"
   ]
  },
  {
   "cell_type": "code",
   "execution_count": 9,
   "metadata": {},
   "outputs": [
    {
     "name": "stdout",
     "output_type": "stream",
     "text": [
      "Found 375 images belonging to 5 classes.\n",
      "Found 93 images belonging to 5 classes.\n"
     ]
    }
   ],
   "source": [
    "# Define the ImageDataGenerator with resizing and other preprocessing\n",
    "train_datagen = ImageDataGenerator(\n",
    "    rescale=1.0/255.0,  # Rescale pixel values to the range [0, 1]\n",
    "    width_shift_range=0.2,  # Optional data augmentation parameters\n",
    "    height_shift_range=0.2,\n",
    "    rotation_range=40,\n",
    "    zoom_range=0.2,\n",
    "    horizontal_flip=True,\n",
    "    vertical_flip=True,\n",
    "    validation_split=0.2 \n",
    ")\n",
    "\n",
    "data_directory = r'C:\\Users\\pinku\\OneDrive\\Desktop\\image_data\\Soil types'\n",
    "\n",
    "# Create training and validation generators with resizing\n",
    "train_generator = train_datagen.flow_from_directory(\n",
    "    data_directory,\n",
    "    target_size=(220, 220),  # Resize images to (220, 220)\n",
    "    batch_size=batch_size,\n",
    "    classes=['Black Soil', 'Cinder Soil', 'Laterite Soil', 'Peat Soil', 'Yellow Soil'],\n",
    "    class_mode='categorical',\n",
    "    subset='training'  \n",
    ")\n",
    "\n",
    "# Create a validation generator\n",
    "validation_generator = train_datagen.flow_from_directory(\n",
    "    data_directory,\n",
    "    target_size=(220, 220),  # Resize images to (220, 220)\n",
    "    batch_size=batch_size,\n",
    "    classes=['Black Soil', 'Cinder Soil', 'Laterite Soil', 'Peat Soil', 'Yellow Soil'],\n",
    "    class_mode='categorical',\n",
    "    subset='validation'  \n"
   ]
  },
  {
   "cell_type": "markdown",
   "metadata": {},
   "source": [
    "# Training the Model\n",
    "\n"
   ]
  },
  {
   "cell_type": "code",
   "execution_count": 10,
   "metadata": {},
   "outputs": [
    {
     "name": "stdout",
     "output_type": "stream",
     "text": [
      "Epoch 1/30\n",
      "37/37 [==============================] - 19s 494ms/step - loss: 2.3121 - acc: 0.3178\n",
      "Epoch 2/30\n",
      "37/37 [==============================] - 19s 523ms/step - loss: 1.2863 - acc: 0.4630\n",
      "Epoch 3/30\n",
      "37/37 [==============================] - 19s 504ms/step - loss: 1.0638 - acc: 0.5890\n",
      "Epoch 4/30\n",
      "37/37 [==============================] - 25s 677ms/step - loss: 0.9686 - acc: 0.6466\n",
      "Epoch 5/30\n",
      "37/37 [==============================] - 26s 690ms/step - loss: 0.7588 - acc: 0.7397\n",
      "Epoch 6/30\n",
      "37/37 [==============================] - 23s 609ms/step - loss: 0.7736 - acc: 0.7507\n",
      "Epoch 7/30\n",
      "37/37 [==============================] - 20s 547ms/step - loss: 0.7696 - acc: 0.7452\n",
      "Epoch 8/30\n",
      "37/37 [==============================] - 25s 656ms/step - loss: 0.6019 - acc: 0.7836\n",
      "Epoch 9/30\n",
      "37/37 [==============================] - 23s 634ms/step - loss: 0.6413 - acc: 0.7918\n",
      "Epoch 10/30\n",
      "37/37 [==============================] - 25s 678ms/step - loss: 0.5623 - acc: 0.8000\n",
      "Epoch 11/30\n",
      "37/37 [==============================] - 27s 727ms/step - loss: 0.5327 - acc: 0.8164\n",
      "Epoch 12/30\n",
      "37/37 [==============================] - 24s 652ms/step - loss: 0.6825 - acc: 0.8055\n",
      "Epoch 13/30\n",
      "37/37 [==============================] - 18s 494ms/step - loss: 0.4244 - acc: 0.8466\n",
      "Epoch 14/30\n",
      "37/37 [==============================] - 20s 523ms/step - loss: 0.4723 - acc: 0.8189\n",
      "Epoch 15/30\n",
      "37/37 [==============================] - 17s 470ms/step - loss: 0.5259 - acc: 0.8192\n",
      "Epoch 16/30\n",
      "37/37 [==============================] - 18s 484ms/step - loss: 0.5111 - acc: 0.8384\n",
      "Epoch 17/30\n",
      "37/37 [==============================] - 18s 482ms/step - loss: 0.4958 - acc: 0.8411\n",
      "Epoch 18/30\n",
      "37/37 [==============================] - 18s 482ms/step - loss: 0.3791 - acc: 0.8521\n",
      "Epoch 19/30\n",
      "37/37 [==============================] - 17s 463ms/step - loss: 0.5335 - acc: 0.8411\n",
      "Epoch 20/30\n",
      "37/37 [==============================] - 21s 555ms/step - loss: 0.5186 - acc: 0.8438\n",
      "Epoch 21/30\n",
      "37/37 [==============================] - 25s 666ms/step - loss: 0.3797 - acc: 0.8575\n",
      "Epoch 22/30\n",
      "37/37 [==============================] - 24s 627ms/step - loss: 0.5307 - acc: 0.8082\n",
      "Epoch 23/30\n",
      "37/37 [==============================] - 18s 480ms/step - loss: 0.3154 - acc: 0.8877\n",
      "Epoch 24/30\n",
      "37/37 [==============================] - 17s 468ms/step - loss: 0.4949 - acc: 0.8438\n",
      "Epoch 25/30\n",
      "37/37 [==============================] - 17s 469ms/step - loss: 0.3822 - acc: 0.8740\n",
      "Epoch 26/30\n",
      "37/37 [==============================] - 17s 470ms/step - loss: 0.4566 - acc: 0.8603\n",
      "Epoch 27/30\n",
      "37/37 [==============================] - 18s 473ms/step - loss: 0.4231 - acc: 0.8493\n",
      "Epoch 28/30\n",
      "37/37 [==============================] - 18s 472ms/step - loss: 0.3656 - acc: 0.8685\n",
      "Epoch 29/30\n",
      "37/37 [==============================] - 18s 482ms/step - loss: 0.3866 - acc: 0.8767\n",
      "Epoch 30/30\n",
      "37/37 [==============================] - 19s 498ms/step - loss: 0.3775 - acc: 0.8548\n"
     ]
    }
   ],
   "source": [
    "# Get the total number of samples and set the number of training epochs\n",
    "total_sample = train_generator.n\n",
    "n_epochs = 30\n",
    "\n",
    "# Train the model\n",
    "history = model.fit(\n",
    "    train_generator,\n",
    "    steps_per_epoch=int(total_sample / batch_size),\n",
    "    epochs=n_epochs,\n",
    "    verbose=1)\n"
   ]
  },
  {
   "cell_type": "markdown",
   "metadata": {},
   "source": [
    "# Visualizing Training Accuracy\n",
    "\n"
   ]
  },
  {
   "cell_type": "code",
   "execution_count": 27,
   "metadata": {},
   "outputs": [
    {
     "data": {
      "image/png": "[encoded data removed]",
      "text/plain": [
       "<Figure size 700x400 with 1 Axes>"
      ]
     },
     "metadata": {},
     "output_type": "display_data"
    }
   ],
   "source": [
    "import matplotlib.pyplot as plt\n",
    "\n",
    "# Assuming you have already trained your model and have a history object\n",
    "\n",
    "# Extract training accuracy values from the history object\n",
    "training_accuracy = history.history['acc']\n",
    "\n",
    "# Create a list of epoch numbers for the x-axis\n",
    "epochs = range(1, n_epochs + 1)\n",
    "\n",
    "# Plot the training accuracy in blue\n",
    "plt.figure(figsize=(7, 4))\n",
    "plt.plot(epochs, training_accuracy, '-o', c='magenta', lw=2, markersize=9)\n",
    "plt.grid(True)\n",
    "plt.title(\"Training accuracy with epochs\", fontsize=18, color='b')\n",
    "plt.xlabel(\"Training epochs\", fontsize=15, color='y')\n",
    "plt.ylabel(\"Training accuracy\", fontsize=15, color='y')\n",
    "plt.xticks(fontsize=15, color='blue')\n",
    "plt.yticks(fontsize=15, color='blue')\n",
    "plt.show()\n"
   ]
  },
  {
   "cell_type": "code",
   "execution_count": null,
   "metadata": {},
   "outputs": [],
   "source": []
  },
  {
   "cell_type": "markdown",
   "metadata": {},
   "source": [
    "# Saving and Exporting the Model\n",
    "\n"
   ]
  },
  {
   "cell_type": "code",
   "execution_count": 30,
   "metadata": {},
   "outputs": [
    {
     "name": "stdout",
     "output_type": "stream",
     "text": [
      "INFO:tensorflow:Assets written to: C:/Users/pinku/OneDrive/Desktop/image_data/dst1/save_model\\assets\n"
     ]
    },
    {
     "name": "stderr",
     "output_type": "stream",
     "text": [
      "INFO:tensorflow:Assets written to: C:/Users/pinku/OneDrive/Desktop/image_data/dst1/save_model\\assets\n"
     ]
    },
    {
     "data": {
      "text/plain": [
       "41340160"
      ]
     },
     "execution_count": 30,
     "metadata": {},
     "output_type": "execute_result"
    }
   ],
   "source": [
    "import tensorflow as tf\n",
    "\n",
    "# Assuming you have already trained your model and have a model object\n",
    "\n",
    "# Save the model in TensorFlow SavedModel format\n",
    "tf.saved_model.save(model, 'C:/Users/pinku/OneDrive/Desktop/image_data/dst1/save_model')\n",
    "\n",
    "# Optionally, you can also save it as a TensorFlow Lite model\n",
    "converter = tf.lite.TFLiteConverter.from_saved_model('C:/Users/pinku/OneDrive/Desktop/image_data/dst1/save_model')\n",
    "tflite_model = converter.convert()\n",
    "open(\"C:/Users/pinku/OneDrive/Desktop/image_data/dst1/soil.tflite\", \"wb\").write(tflite_model)\n",
    "\n",
    "\n"
   ]
  },
  {
   "cell_type": "markdown",
   "metadata": {},
   "source": [
    "# Perform Inference on a New Image\n",
    "\n"
   ]
  },
  {
   "cell_type": "code",
   "execution_count": 1,
   "metadata": {},
   "outputs": [
    {
     "name": "stdout",
     "output_type": "stream",
     "text": [
      "Predicted Class: Yellow Soil\n"
     ]
    }
   ],
   "source": [
    "import tensorflow as tf\n",
    "import numpy as np\n",
    "\n",
    "# Load the TensorFlow Lite model\n",
    "interpreter = tf.lite.Interpreter(model_path=r'C:\\Users\\pinku\\OneDrive\\Desktop\\image_data\\dst1\\soil.tflite')\n",
    "interpreter.allocate_tensors()\n",
    "\n",
    "# Load and preprocess the input image\n",
    "image_path = r\"C:\\Users\\pinku\\OneDrive\\Desktop\\image_data\\Soil types\\Yellow Soil\\Yellow_Soil_ (50).jpg\"\n",
    "input_image = tf.keras.preprocessing.image.load_img(image_path, target_size=(220, 220))\n",
    "input_image = tf.keras.preprocessing.image.img_to_array(input_image)\n",
    "input_image = input_image / 255.0  # Normalize pixel values (if not already normalized)\n",
    "\n",
    "# Ensure the input shape matches the model's input shape\n",
    "input_shape = interpreter.get_input_details()[0]['shape']\n",
    "input_image = tf.image.resize(input_image, (input_shape[1], input_shape[2]))  # Resize the image\n",
    "\n",
    "# Add batch dimension\n",
    "input_image = np.expand_dims(input_image, axis=0)\n",
    "\n",
    "# Set the input tensor\n",
    "interpreter.set_tensor(interpreter.get_input_details()[0]['index'], input_image)\n",
    "\n",
    "# Run inference\n",
    "interpreter.invoke()\n",
    "\n",
    "# Get the output tensor\n",
    "output = interpreter.get_tensor(interpreter.get_output_details()[0]['index'])\n",
    "\n",
    "# Interpret the predictions\n",
    "class_names = ['Black Soil', 'Cinder Soil', 'Laterite Soil', 'Peat Soil', 'Yellow Soil']\n",
    "predicted_class = class_names[np.argmax(output)]\n",
    "\n",
    "# Display the results\n",
    "print(f'Predicted Class: {predicted_class}')\n"
   ]
  },
  {
   "cell_type": "code",
   "execution_count": null,
   "metadata": {},
   "outputs": [],
   "source": []
  }
 ],
 "metadata": {
  "kernelspec": {
   "display_name": "Python 3",
   "language": "python",
   "name": "python3"
  },
  "language_info": {
   "codemirror_mode": {
    "name": "ipython",
    "version": 3
   },
   "file_extension": ".py",
   "mimetype": "text/x-python",
   "name": "python",
   "nbconvert_exporter": "python",
   "pygments_lexer": "ipython3",
   "version": "3.11.1"
  }
 },
 "nbformat": 4,
 "nbformat_minor": 2
}
